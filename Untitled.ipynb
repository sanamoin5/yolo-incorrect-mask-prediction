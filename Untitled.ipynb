{
 "cells": [
  {
   "cell_type": "code",
   "execution_count": 3,
   "id": "worst-deposit",
   "metadata": {},
   "outputs": [],
   "source": [
    "import pandas as pd\n",
    "import numpy as np\n",
    "import matplotlib.pyplot as plt\n",
    "from keras import regularizers, optimizers\n",
    "from keras.layers import Dense, Dropout, Input\n",
    "from keras.models import Sequential, load_model\n",
    "from keras.callbacks import ModelCheckpoint\n",
    "from keras.datasets import boston_housing\n",
    "from keras.losses import MeanSquaredError"
   ]
  },
  {
   "cell_type": "code",
   "execution_count": null,
   "id": "retained-realtor",
   "metadata": {},
   "outputs": [],
   "source": []
  },
  {
   "cell_type": "code",
   "execution_count": null,
   "id": "beginning-necklace",
   "metadata": {},
   "outputs": [],
   "source": [
    "\n",
    "#Load Boston Housing Dataset\n",
    "(X_train, y_train), (X_test, y_test) = boston_housing.load_data()\n",
    "\n",
    "#Build model\n",
    "model = Sequential()\n",
    "model.add(Input(shape=(13,)))\n",
    "model.add(Dense(32, activation='tanh', \n",
    "                kernel_regularizer = regularizers.l1_l2(l1=1e-5, l2=1e-4)))\n",
    "model.add(Dense(1,activation='relu'))\n",
    "\n",
    "mse = MeanSquaredError()\n",
    "adam = optimizers.Adam(learning_rate=.1, decay=1e-3)\n",
    "\n",
    "model.compile(optimizer = adam, loss = mse, metrics = None)\n",
    "print(model.summary())\n",
    "\n",
    "#create callback\n",
    "filepath = 'my_best_model.hdf5'\n",
    "checkpoint = ModelCheckpoint(filepath=filepath, \n",
    "                             monitor='val_loss',\n",
    "                             verbose=1, \n",
    "                             save_best_only=True,\n",
    "                             mode='min')\n",
    "callbacks = [checkpoint]\n",
    "\n",
    "#fit the model\n",
    "history = model.fit(pd.DataFrame(X_train).apply(np.asarray),\n",
    "                  y_train,\n",
    "                  batch_size=10,\n",
    "                  epochs=100,\n",
    "                  validation_split=0.2,\n",
    "                  callbacks=callbacks)\n",
    "\n",
    "#plot the training history\n",
    "plt.plot(history.history['loss'], label='Training Loss')\n",
    "plt.plot(history.history['val_loss'], label='Validation Loss')\n",
    "plt.legend()\n",
    "plt.xlabel('Epochs')\n",
    "plt.ylabel('Mean Squared Error')\n",
    "plt.savefig('model_training_history')\n",
    "plt.show()\n",
    "\n",
    "#Load and evaluate the best model version\n",
    "model = load_model(filepath)\n",
    "yhat = model.predict(X_test)\n",
    "print('Model MSE on test data = ', mse(y_test, yhat).numpy())"
   ]
  }
 ],
 "metadata": {
  "kernelspec": {
   "display_name": "Python 3",
   "language": "python",
   "name": "python3"
  },
  "language_info": {
   "codemirror_mode": {
    "name": "ipython",
    "version": 3
   },
   "file_extension": ".py",
   "mimetype": "text/x-python",
   "name": "python",
   "nbconvert_exporter": "python",
   "pygments_lexer": "ipython3",
   "version": "3.8.3"
  }
 },
 "nbformat": 4,
 "nbformat_minor": 5
}
